{
  "nbformat": 4,
  "nbformat_minor": 0,
  "metadata": {
    "colab": {
      "name": "Assignment 1B",
      "provenance": [],
      "authorship_tag": "ABX9TyPxHd/95a/GNorVesWbgVMF",
      "include_colab_link": true
    },
    "kernelspec": {
      "name": "python3",
      "display_name": "Python 3"
    }
  },
  "cells": [
    {
      "cell_type": "markdown",
      "metadata": {
        "id": "view-in-github",
        "colab_type": "text"
      },
      "source": [
        "<a href=\"https://colab.research.google.com/github/anisha99999/DNNs/blob/master/Assignment_1B.ipynb\" target=\"_parent\"><img src=\"https://colab.research.google.com/assets/colab-badge.svg\" alt=\"Open In Colab\"/></a>"
      ]
    },
    {
      "cell_type": "markdown",
      "metadata": {
        "id": "o6eMUyiROi6y",
        "colab_type": "text"
      },
      "source": [
        "1. Channels are features describing Layers and kernels are features describing filters. In 2D kernels and filters are the same but in 3D filters are formed by multiple kernels stacked together. Each kernel when applied into an input channel generates one output channel of the layer.\n",
        "\n",
        "2.Usually Kernels are preferred to to be matrices such as 1x1,3x3,5x5 due to symmetry from its origin pixel. 3x3 is the smallest size odd matrix which gives maximum no of layers with less weight(3x3=9 ,5x5=25). So more no of layers means more features and information in it and with less no of weight makes the computations simpler and more efficient. \n",
        "\n",
        "3.  199x199 matrix will convulate 99 times with 3x3 matrix to get 1x1\n",
        "\n",
        "199x199 | 3x3 > 197x197\n",
        "197x197 | 3x3 > 195x195\n",
        ".......................\n",
        "5x5 | 3x3 > 3x3\n",
        "3x3 | 3x3 > 1x1\n",
        "\n",
        "\n",
        "\n"
      ]
    }
  ]
}